{
 "cells": [
  {
   "cell_type": "code",
   "execution_count": 1,
   "metadata": {},
   "outputs": [],
   "source": [
    "import torch"
   ]
  },
  {
   "cell_type": "code",
   "execution_count": 5,
   "metadata": {},
   "outputs": [
    {
     "name": "stdout",
     "output_type": "stream",
     "text": [
      "tensor([[[0.6467, 0.3305, 0.4221, 0.8886, 0.3460],\n",
      "         [0.6767, 0.7551, 0.9889, 0.1123, 0.7651],\n",
      "         [0.3932, 0.2392, 0.3676, 0.7250, 0.7768],\n",
      "         [0.6453, 0.6801, 0.1030, 0.5747, 0.9115]],\n",
      "\n",
      "        [[0.7270, 0.5146, 0.8834, 0.8782, 0.0436],\n",
      "         [0.1941, 0.8088, 0.1331, 0.4488, 0.3151],\n",
      "         [0.8844, 0.8062, 0.9790, 0.8757, 0.8966],\n",
      "         [0.0374, 0.1030, 0.8821, 0.4815, 0.3657]],\n",
      "\n",
      "        [[0.3161, 0.9328, 0.0254, 0.6416, 0.4486],\n",
      "         [0.4427, 0.1421, 0.2310, 0.9309, 0.4890],\n",
      "         [0.0991, 0.6759, 0.5781, 0.1385, 0.2462],\n",
      "         [0.7117, 0.2346, 0.5163, 0.7485, 0.2739]]])\n",
      "torch.FloatTensor\n"
     ]
    }
   ],
   "source": [
    "# Создайте случайный FloatTensor размера 3x4x5\n",
    "a = (torch.rand(3,4,5))\n",
    "print(a)\n",
    "print(a.type())"
   ]
  },
  {
   "cell_type": "code",
   "execution_count": 6,
   "metadata": {},
   "outputs": [
    {
     "data": {
      "text/plain": [
       "torch.Size([3, 4, 5])"
      ]
     },
     "execution_count": 6,
     "metadata": {},
     "output_type": "execute_result"
    }
   ],
   "source": [
    "# Выведите его форму (shape)\n",
    "a.shape"
   ]
  },
  {
   "cell_type": "code",
   "execution_count": 8,
   "metadata": {},
   "outputs": [
    {
     "name": "stdout",
     "output_type": "stream",
     "text": [
      "tensor([[0.6467, 0.3305, 0.4221, 0.8886, 0.3460, 0.6767, 0.7551, 0.9889, 0.1123,\n",
      "         0.7651],\n",
      "        [0.3932, 0.2392, 0.3676, 0.7250, 0.7768, 0.6453, 0.6801, 0.1030, 0.5747,\n",
      "         0.9115],\n",
      "        [0.7270, 0.5146, 0.8834, 0.8782, 0.0436, 0.1941, 0.8088, 0.1331, 0.4488,\n",
      "         0.3151],\n",
      "        [0.8844, 0.8062, 0.9790, 0.8757, 0.8966, 0.0374, 0.1030, 0.8821, 0.4815,\n",
      "         0.3657],\n",
      "        [0.3161, 0.9328, 0.0254, 0.6416, 0.4486, 0.4427, 0.1421, 0.2310, 0.9309,\n",
      "         0.4890],\n",
      "        [0.0991, 0.6759, 0.5781, 0.1385, 0.2462, 0.7117, 0.2346, 0.5163, 0.7485,\n",
      "         0.2739]])\n"
     ]
    },
    {
     "data": {
      "text/plain": [
       "torch.Size([6, 10])"
      ]
     },
     "execution_count": 8,
     "metadata": {},
     "output_type": "execute_result"
    }
   ],
   "source": [
    "# Приведите его к форме 6 X 10\n",
    "c = torch.reshape(a, [6, 10])\n",
    "print(c)\n",
    "c.shape"
   ]
  },
  {
   "cell_type": "code",
   "execution_count": 46,
   "metadata": {},
   "outputs": [
    {
     "name": "stdout",
     "output_type": "stream",
     "text": [
      "tensor([6, 5, 3, 9, 2, 4, 1, 8, 0, 7])\n"
     ]
    }
   ],
   "source": [
    "# Создайте случайный IntTensor размера 10\n",
    "b = torch.randperm(10)\n",
    "print(b)"
   ]
  },
  {
   "cell_type": "code",
   "execution_count": 53,
   "metadata": {},
   "outputs": [
    {
     "name": "stdout",
     "output_type": "stream",
     "text": [
      "tensor([[3.8802, 1.6527, 1.2664, 7.9975, 0.6920, 2.7067, 0.7551, 7.9115, 0.0000,\n",
      "         5.3557],\n",
      "        [2.3591, 1.1958, 1.1027, 6.5248, 1.5536, 2.5811, 0.6801, 0.8237, 0.0000,\n",
      "         6.3806],\n",
      "        [4.3619, 2.5729, 2.6501, 7.9042, 0.0872, 0.7762, 0.8088, 1.0645, 0.0000,\n",
      "         2.2056],\n",
      "        [5.3064, 4.0309, 2.9371, 7.8810, 1.7932, 0.1495, 0.1030, 7.0565, 0.0000,\n",
      "         2.5602],\n",
      "        [1.8965, 4.6640, 0.0761, 5.7746, 0.8972, 1.7709, 0.1421, 1.8477, 0.0000,\n",
      "         3.4233],\n",
      "        [0.5947, 3.3797, 1.7344, 1.2461, 0.4924, 2.8470, 0.2346, 4.1300, 0.0000,\n",
      "         1.9175]])\n",
      "torch.FloatTensor\n"
     ]
    }
   ],
   "source": [
    "# Умножьте созданный FloatTensor на созданный IntTensor поэлементно\n",
    "d = c*b\n",
    "print(d)\n",
    "print(d.type())"
   ]
  },
  {
   "cell_type": "code",
   "execution_count": 55,
   "metadata": {},
   "outputs": [
    {
     "name": "stdout",
     "output_type": "stream",
     "text": [
      "tensor([[183.0012, 113.9726, 110.7531, 165.2621,  99.8193,  71.2231],\n",
      "        [113.9726, 101.7127,  85.5012,  97.3895,  77.2394,  39.3972],\n",
      "        [110.7531,  85.5012, 102.4068, 117.1077,  77.2026,  36.8037],\n",
      "        [165.2621,  97.3895, 117.1077, 174.7409,  98.2881,  67.0793],\n",
      "        [ 99.8193,  77.2394,  77.2026,  98.2881,  77.7959,  43.9306],\n",
      "        [ 71.2231,  39.3972,  36.8037,  67.0793,  43.9306,  45.4734]])\n"
     ]
    }
   ],
   "source": [
    "# Умножьте тензор матрично на себя, чтобы результат был размерности 6x6\n",
    "e = d.matmul(d.T)\n",
    "print(e)"
   ]
  },
  {
   "cell_type": "code",
   "execution_count": 56,
   "metadata": {},
   "outputs": [
    {
     "data": {
      "text/plain": [
       "(tensor([3.]), tensor([1.]), tensor([-75.]))"
      ]
     },
     "execution_count": 56,
     "metadata": {},
     "output_type": "execute_result"
    }
   ],
   "source": [
    "# Посчитайте производную функции y = x**3 + z - 75t в точке (1, 0.5, 2)\n",
    "x = torch.autograd.Variable(torch.FloatTensor([1]),   requires_grad = True)\n",
    "z = torch.autograd.Variable(torch.FloatTensor([0.5]), requires_grad = True)\n",
    "t = torch.autograd.Variable(torch.FloatTensor([2]),   requires_grad = True)\n",
    "\n",
    "y = x**3 + z -75*t\n",
    "\n",
    "y.backward()\n",
    "\n",
    "(x.grad, z.grad, t.grad)"
   ]
  },
  {
   "cell_type": "code",
   "execution_count": 57,
   "metadata": {},
   "outputs": [
    {
     "name": "stdout",
     "output_type": "stream",
     "text": [
      "tensor([[1., 1., 1., 1., 1., 1.],\n",
      "        [1., 1., 1., 1., 1., 1.],\n",
      "        [1., 1., 1., 1., 1., 1.],\n",
      "        [1., 1., 1., 1., 1., 1.],\n",
      "        [1., 1., 1., 1., 1., 1.]])\n"
     ]
    }
   ],
   "source": [
    "# Создайте единичный тензор размера 5x6\n",
    "f = torch.ones(5,6)\n",
    "print(f)"
   ]
  },
  {
   "cell_type": "code",
   "execution_count": 59,
   "metadata": {},
   "outputs": [
    {
     "name": "stdout",
     "output_type": "stream",
     "text": [
      "[[1. 1. 1. 1. 1. 1.]\n",
      " [1. 1. 1. 1. 1. 1.]\n",
      " [1. 1. 1. 1. 1. 1.]\n",
      " [1. 1. 1. 1. 1. 1.]\n",
      " [1. 1. 1. 1. 1. 1.]]\n",
      "<class 'numpy.ndarray'>\n"
     ]
    }
   ],
   "source": [
    "# Переведите его в формат numpy\n",
    "g = f.numpy()\n",
    "print(g)\n",
    "print(type(g))"
   ]
  },
  {
   "cell_type": "code",
   "execution_count": null,
   "metadata": {},
   "outputs": [],
   "source": []
  }
 ],
 "metadata": {
  "kernelspec": {
   "display_name": "Python 3 (ipykernel)",
   "language": "python",
   "name": "python3"
  },
  "language_info": {
   "codemirror_mode": {
    "name": "ipython",
    "version": 3
   },
   "file_extension": ".py",
   "mimetype": "text/x-python",
   "name": "python",
   "nbconvert_exporter": "python",
   "pygments_lexer": "ipython3",
   "version": "3.9.7"
  }
 },
 "nbformat": 4,
 "nbformat_minor": 2
}
